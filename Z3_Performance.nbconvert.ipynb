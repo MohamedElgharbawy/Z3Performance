{
 "cells": [
  {
   "cell_type": "markdown",
   "metadata": {
    "colab_type": "text",
    "id": "view-in-github"
   },
   "source": [
    "<a href=\"https://colab.research.google.com/github/MohamedElgharbawy/Z3Performance/blob/main/Z3_Performance.ipynb\" target=\"_parent\"><img src=\"https://colab.research.google.com/assets/colab-badge.svg\" alt=\"Open In Colab\"/></a>"
   ]
  },
  {
   "cell_type": "markdown",
   "metadata": {
    "id": "UoAzAbprJ1_t"
   },
   "source": [
    "# Plotting Z3 Performance\n",
    "\n",
    "This program plots Z3's performance when solving theorems with n random variables and a random set of [1, n<sup>2</sup>] constraints."
   ]
  },
  {
   "cell_type": "code",
   "execution_count": 1,
   "metadata": {
    "colab": {
     "base_uri": "https://localhost:8080/"
    },
    "execution": {
     "iopub.execute_input": "2021-09-23T20:49:11.079305Z",
     "iopub.status.busy": "2021-09-23T20:49:11.075096Z",
     "iopub.status.idle": "2021-09-23T20:49:12.452272Z",
     "shell.execute_reply": "2021-09-23T20:49:12.453493Z"
    },
    "id": "fUI0Qt9xu-G1",
    "outputId": "d55d82f4-eac4-4de1-eca2-2cb875cc88fc"
   },
   "outputs": [
    {
     "name": "stdout",
     "output_type": "stream",
     "text": [
      "WARNING: pip is being invoked by an old script wrapper. This will fail in a future version of pip.\r\n",
      "Please see https://github.com/pypa/pip/issues/5599 for advice on fixing the underlying issue.\r\n",
      "To avoid this problem you can invoke Python with '-m pip' instead of running pip directly.\r\n",
      "Defaulting to user installation because normal site-packages is not writeable\r\n",
      "Requirement already satisfied: z3-solver in /home/erdos/.local/lib/python3.6/site-packages (4.8.12.0)\r\n"
     ]
    }
   ],
   "source": [
    "!pip3 install z3-solver"
   ]
  },
  {
   "cell_type": "code",
   "execution_count": 2,
   "metadata": {
    "execution": {
     "iopub.execute_input": "2021-09-23T20:49:12.461987Z",
     "iopub.status.busy": "2021-09-23T20:49:12.460498Z",
     "iopub.status.idle": "2021-09-23T20:49:12.813876Z",
     "shell.execute_reply": "2021-09-23T20:49:12.814248Z"
    },
    "id": "DFWUib1bGLC9"
   },
   "outputs": [],
   "source": [
    "from z3 import *\n",
    "import random\n",
    "import operator\n",
    "import time\n",
    "import matplotlib\n",
    "matplotlib.use('Agg')\n",
    "import matplotlib.pyplot as plt"
   ]
  },
  {
   "cell_type": "code",
   "execution_count": 3,
   "metadata": {
    "execution": {
     "iopub.execute_input": "2021-09-23T20:49:12.817986Z",
     "iopub.status.busy": "2021-09-23T20:49:12.817309Z",
     "iopub.status.idle": "2021-09-23T20:49:12.819343Z",
     "shell.execute_reply": "2021-09-23T20:49:12.818758Z"
    },
    "id": "6Ohvg2dYDc0H"
   },
   "outputs": [],
   "source": [
    "ops = [operator.lt, operator.le, operator.ge, operator.gt]"
   ]
  },
  {
   "cell_type": "code",
   "execution_count": 4,
   "metadata": {
    "execution": {
     "iopub.execute_input": "2021-09-23T20:49:12.828960Z",
     "iopub.status.busy": "2021-09-23T20:49:12.827628Z",
     "iopub.status.idle": "2021-09-23T20:49:12.830130Z",
     "shell.execute_reply": "2021-09-23T20:49:12.829570Z"
    },
    "id": "dseTLLI601c-"
   },
   "outputs": [],
   "source": [
    "def z3_performance(num_var: int, use_max: bool):\n",
    "  \"\"\"\n",
    "  Measure Z3's performance to check a model for num_var variables with\n",
    "  1 - num_var**2 constraints.\n",
    "  Returns the a tuple, a list of the number of constraints, and a list of the\n",
    "  corresponding times.\n",
    "  \"\"\"\n",
    "  X = IntVector('x', num_var)\n",
    "\n",
    "  if use_max:\n",
    "    solver = Optimize()\n",
    "    solver.maximize(Sum(X))\n",
    "  else:\n",
    "    solver = Solver()\n",
    "\n",
    "  # Graphing lists\n",
    "  num_constraints = []\n",
    "  times = []\n",
    "\n",
    "  # Constraints\n",
    "  constraints = []\n",
    "  for i in range(1, num_var**2 + 1):\n",
    "    num_constraints.append(i)\n",
    "\n",
    "    # Get a random operator\n",
    "    op = random.choice(ops)\n",
    "    \n",
    "    # Create a random constraint\n",
    "    constraint = op(sum(random.randint(-10, 10)*X[j] for j in range(0,num_var)), random.randint(-10, 10))\n",
    "    constraints.append(constraint)\n",
    "    solver.add(constraint)\n",
    "\n",
    "    # Check model\n",
    "    start_time = time.monotonic()\n",
    "    solver.check()\n",
    "    final_time = time.monotonic() - start_time\n",
    "    times.append(round(final_time, 5))\n",
    "\n",
    "  return num_constraints, times"
   ]
  },
  {
   "cell_type": "code",
   "execution_count": 5,
   "metadata": {
    "execution": {
     "iopub.execute_input": "2021-09-23T20:49:12.834560Z",
     "iopub.status.busy": "2021-09-23T20:49:12.833916Z",
     "iopub.status.idle": "2021-09-23T20:49:12.836199Z",
     "shell.execute_reply": "2021-09-23T20:49:12.835647Z"
    },
    "id": "7wjbkU5T3u7f"
   },
   "outputs": [],
   "source": [
    "def plot_one_z3_performance(num_var: int, use_max: bool):\n",
    "  \"\"\"\n",
    "  Measure and plot Z3's performance for num_var variables\n",
    "  \"\"\"\n",
    "  num_constraints, times = z3_performance(num_var, use_max)\n",
    "\n",
    "  plt.plot(num_constraints, times)\n",
    "\n",
    "  plt.title(\"Z3 Performance for {} variables\".format(num_var))\n",
    "  plt.xlabel(\"Number of constraints\")\n",
    "  plt.ylabel(\"Time (seconds)\")\n",
    "  plt.savefig(\"plots/one/one_{},use_max={}.png\".format(num_var, use_max))\n",
    "  plt.clf()"
   ]
  },
  {
   "cell_type": "code",
   "execution_count": 6,
   "metadata": {
    "colab": {
     "base_uri": "https://localhost:8080/",
     "height": 295
    },
    "execution": {
     "iopub.execute_input": "2021-09-23T20:49:12.839437Z",
     "iopub.status.busy": "2021-09-23T20:49:12.838808Z",
     "iopub.status.idle": "2021-09-23T20:49:13.121029Z",
     "shell.execute_reply": "2021-09-23T20:49:13.121440Z"
    },
    "id": "TMIO3ZfJGyrP",
    "outputId": "118115c6-35d7-46bb-a7ec-bacf6cba8578"
   },
   "outputs": [],
   "source": [
    "random.seed(42)\n",
    "plot_one_z3_performance(5, use_max=True)"
   ]
  },
  {
   "cell_type": "code",
   "execution_count": 7,
   "metadata": {
    "colab": {
     "base_uri": "https://localhost:8080/",
     "height": 295
    },
    "execution": {
     "iopub.execute_input": "2021-09-23T20:49:13.125092Z",
     "iopub.status.busy": "2021-09-23T20:49:13.124384Z",
     "iopub.status.idle": "2021-09-23T20:49:13.252456Z",
     "shell.execute_reply": "2021-09-23T20:49:13.253552Z"
    },
    "id": "wwRCR83hIskm",
    "outputId": "a59091dc-0524-4df7-be47-03d879464fd7"
   },
   "outputs": [],
   "source": [
    "random.seed(42)\n",
    "plot_one_z3_performance(5, use_max=False)"
   ]
  },
  {
   "cell_type": "code",
   "execution_count": 8,
   "metadata": {
    "execution": {
     "iopub.execute_input": "2021-09-23T20:49:13.260184Z",
     "iopub.status.busy": "2021-09-23T20:49:13.259321Z",
     "iopub.status.idle": "2021-09-23T20:49:13.261062Z",
     "shell.execute_reply": "2021-09-23T20:49:13.261742Z"
    },
    "id": "PEwDBGL9GdQV"
   },
   "outputs": [],
   "source": [
    "def plot_all_z3_performance(num_var: int, use_max: bool):\n",
    "  \"\"\"\n",
    "  Measure and plot Z3's performance for [1, num_var] variables\n",
    "  \"\"\"\n",
    "  for i in range(1, num_var + 1):\n",
    "    print(\"Random variable: {}\".format(i))\n",
    "    num_constraints, times = z3_performance(i, use_max)\n",
    "\n",
    "    plt.plot(num_constraints, times, label=str(i))\n",
    "\n",
    "  plt.title(\"Z3 Performance\")\n",
    "  plt.xlabel(\"Number of constraints\")\n",
    "  plt.ylabel(\"Time (seconds)\")\n",
    "  plt.legend(title=\"Number of variables\")\n",
    "  plt.savefig(f\"plots/all/all_{i},use_max={use_max}\")\n",
    "  plt.clf()"
   ]
  },
  {
   "cell_type": "code",
   "execution_count": 9,
   "metadata": {
    "colab": {
     "base_uri": "https://localhost:8080/",
     "height": 295
    },
    "execution": {
     "iopub.execute_input": "2021-09-23T20:49:13.265790Z",
     "iopub.status.busy": "2021-09-23T20:49:13.264976Z",
     "iopub.status.idle": "2021-09-23T20:49:13.388265Z",
     "shell.execute_reply": "2021-09-23T20:49:13.387443Z"
    },
    "id": "s756_T4NBJZJ",
    "outputId": "2b707699-f6db-4d89-f334-aafe0b91baa5"
   },
   "outputs": [
    {
     "name": "stdout",
     "output_type": "stream",
     "text": [
      "Random variable: 1\n",
      "Random variable: 2\n"
     ]
    }
   ],
   "source": [
    "random.seed(42)\n",
    "plot_all_z3_performance(2, use_max=True)"
   ]
  },
  {
   "cell_type": "code",
   "execution_count": 10,
   "metadata": {
    "execution": {
     "iopub.execute_input": "2021-09-23T20:49:13.392386Z",
     "iopub.status.busy": "2021-09-23T20:49:13.391491Z",
     "iopub.status.idle": "2021-09-23T20:49:13.522964Z",
     "shell.execute_reply": "2021-09-23T20:49:13.522021Z"
    },
    "id": "AAiE7d-JClPw"
   },
   "outputs": [
    {
     "name": "stdout",
     "output_type": "stream",
     "text": [
      "Random variable: 1\n",
      "Random variable: 2\n"
     ]
    }
   ],
   "source": [
    "random.seed(42)\n",
    "plot_all_z3_performance(2, use_max=False)"
   ]
  },
  {
   "cell_type": "markdown",
   "metadata": {},
   "source": []
  },
  {
   "cell_type": "code",
   "execution_count": null,
   "metadata": {
    "id": "aS7g7M8tJeX3"
   },
   "outputs": [],
   "source": []
  }
 ],
 "metadata": {
  "colab": {
   "authorship_tag": "ABX9TyMY9UmfXfULoCEJogAJE1bS",
   "collapsed_sections": [],
   "include_colab_link": true,
   "name": "Z3 Performance.ipynb",
   "provenance": []
  },
  "kernelspec": {
   "display_name": "Python 3",
   "language": "python",
   "name": "python3"
  },
  "language_info": {
   "codemirror_mode": {
    "name": "ipython",
    "version": 3
   },
   "file_extension": ".py",
   "mimetype": "text/x-python",
   "name": "python",
   "nbconvert_exporter": "python",
   "pygments_lexer": "ipython3",
   "version": "3.6.9"
  }
 },
 "nbformat": 4,
 "nbformat_minor": 2
}
