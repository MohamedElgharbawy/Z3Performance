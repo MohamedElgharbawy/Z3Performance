{
  "nbformat": 4,
  "nbformat_minor": 2,
  "metadata": {
    "colab": {
      "name": "Z3 Performance.ipynb",
      "provenance": [],
      "collapsed_sections": [],
      "authorship_tag": "ABX9TyMY9UmfXfULoCEJogAJE1bS",
      "include_colab_link": true
    },
    "kernelspec": {
      "name": "python3",
      "display_name": "Python 3",
      "language": "python"
    }
  },
  "cells": [
    {
      "cell_type": "markdown",
      "source": [
        "<a href=\"https://colab.research.google.com/github/MohamedElgharbawy/Z3Performance/blob/main/Z3_Performance.ipynb\" target=\"_parent\"><img src=\"https://colab.research.google.com/assets/colab-badge.svg\" alt=\"Open In Colab\"/></a>"
      ],
      "metadata": {
        "id": "view-in-github",
        "colab_type": "text"
      }
    },
    {
      "cell_type": "markdown",
      "source": [
        "# Plotting Z3 Performance\n",
        "\n",
        "This program plots Z3's performance when solving theorems with n random variables and a random set of [1, n<sup>2</sup>] constraints."
      ],
      "metadata": {
        "id": "UoAzAbprJ1_t"
      }
    },
    {
      "cell_type": "code",
      "execution_count": 1,
      "source": [
        "!pip3 install z3-solver"
      ],
      "outputs": [
        {
          "output_type": "stream",
          "name": "stdout",
          "text": [
            "WARNING: pip is being invoked by an old script wrapper. This will fail in a future version of pip.\n",
            "Please see https://github.com/pypa/pip/issues/5599 for advice on fixing the underlying issue.\n",
            "To avoid this problem you can invoke Python with '-m pip' instead of running pip directly.\n",
            "Defaulting to user installation because normal site-packages is not writeable\n",
            "Requirement already satisfied: z3-solver in /home/erdos/.local/lib/python3.6/site-packages (4.8.12.0)\n"
          ]
        }
      ],
      "metadata": {
        "colab": {
          "base_uri": "https://localhost:8080/"
        },
        "id": "fUI0Qt9xu-G1",
        "outputId": "d55d82f4-eac4-4de1-eca2-2cb875cc88fc"
      }
    },
    {
      "cell_type": "code",
      "execution_count": 2,
      "source": [
        "from z3 import *\n",
        "import random\n",
        "import operator\n",
        "import time\n",
        "import matplotlib\n",
        "matplotlib.use('Agg')\n",
        "import matplotlib.pyplot as plt"
      ],
      "outputs": [],
      "metadata": {
        "id": "DFWUib1bGLC9"
      }
    },
    {
      "cell_type": "code",
      "execution_count": 3,
      "source": [
        "ops = [operator.lt, operator.le, operator.ge, operator.gt]"
      ],
      "outputs": [],
      "metadata": {
        "id": "6Ohvg2dYDc0H"
      }
    },
    {
      "cell_type": "code",
      "execution_count": 4,
      "source": [
        "def z3_performance(num_var: int, use_max: bool, inc_constraints=1):\n",
        "  \"\"\"\n",
        "  Measure Z3's performance to check a model for num_var variables with\n",
        "  1 - num_var**2 constraints.\n",
        "  Returns the a tuple, a list of the number of constraints, and a list of the\n",
        "  corresponding times.\n",
        "  \"\"\"\n",
        "  X = IntVector('x', num_var)\n",
        "\n",
        "  if use_max:\n",
        "    solver = Optimize()\n",
        "    solver.maximize(Sum(X))\n",
        "  else:\n",
        "    solver = Solver()\n",
        "\n",
        "  # Graphing lists\n",
        "  num_constraints = []\n",
        "  times = []\n",
        "  num_unsat = 0\n",
        "\n",
        "  # Constraints\n",
        "  constraints = []\n",
        "  for i in range(1, num_var**2 + 1, inc_constraints):\n",
        "    print(f\"{num_var}: {i} constraints\")\n",
        "    num_constraints.append(i)\n",
        "\n",
        "    # Get a random operator\n",
        "    op = random.choice(ops)\n",
        "    \n",
        "    # Create a random constraint\n",
        "    constraint = op(sum(random.randint(-10, 10)*X[j] for j in range(0,num_var)), random.randint(-10, 10))\n",
        "    constraints.append(constraint)\n",
        "    solver.add(constraint)\n",
        "\n",
        "    # Check model\n",
        "    start_time = time.monotonic()\n",
        "    satisfiability = str(solver.check())\n",
        "    final_time = time.monotonic() - start_time\n",
        "    times.append(round(final_time, 5))\n",
        "\n",
        "    if satisfiability == \"unsat\":\n",
        "      num_unsat += 1\n",
        "    \n",
        "    if num_unsat == 10:\n",
        "      break\n",
        "\n",
        "  return num_constraints, times"
      ],
      "outputs": [],
      "metadata": {
        "id": "dseTLLI601c-"
      }
    },
    {
      "cell_type": "code",
      "execution_count": 5,
      "source": [
        "def plot_one_z3_performance(num_var: int, use_max: bool, inc_constraints=1):\n",
        "  \"\"\"\n",
        "  Measure and plot Z3's performance for num_var variables\n",
        "  \"\"\"\n",
        "  num_constraints, times = z3_performance(num_var, use_max, inc_constraints)\n",
        "\n",
        "  plt.plot(num_constraints, times)\n",
        "\n",
        "  plt.title(\"Z3 Performance for {} variables\".format(num_var))\n",
        "  plt.xlabel(\"Number of constraints\")\n",
        "  plt.ylabel(\"Time (seconds)\")\n",
        "  plt.savefig(\"plots/one/one_{},use_max={}.png\".format(num_var, use_max))\n",
        "  plt.clf()"
      ],
      "outputs": [],
      "metadata": {
        "id": "7wjbkU5T3u7f"
      }
    },
    {
      "cell_type": "code",
      "execution_count": 6,
      "source": [
        "def plot_all_z3_performance(num_var: int, use_max: bool):\n",
        "  \"\"\"\n",
        "  Measure and plot Z3's performance for [1, num_var] variables\n",
        "  \"\"\"\n",
        "  for i in range(1, num_var + 1):\n",
        "    print(\"Random variable: {}\".format(i))\n",
        "    num_constraints, times = z3_performance(i, use_max)\n",
        "\n",
        "    plt.plot(num_constraints, times, label=str(i))\n",
        "\n",
        "  plt.title(\"Z3 Performance\")\n",
        "  plt.xlabel(\"Number of constraints\")\n",
        "  plt.ylabel(\"Time (seconds)\")\n",
        "  plt.legend(title=\"Number of variables\")\n",
        "  plt.savefig(f\"plots/all/all_{i},use_max={use_max}\")\n",
        "  plt.clf()"
      ],
      "outputs": [],
      "metadata": {
        "id": "PEwDBGL9GdQV"
      }
    },
    {
      "cell_type": "code",
      "execution_count": 7,
      "source": [
        "random.seed(42)\n",
        "plot_one_z3_performance(25, use_max=True, inc_constraints=5)\n",
        "plot_one_z3_performance(25, use_max=False, inc_constraints=5)"
      ],
      "outputs": [
        {
          "output_type": "stream",
          "name": "stdout",
          "text": [
            "25: 1 constraints\n",
            "25: 6 constraints\n",
            "25: 11 constraints\n",
            "25: 16 constraints\n",
            "25: 21 constraints\n",
            "25: 26 constraints\n",
            "25: 31 constraints\n",
            "25: 36 constraints\n",
            "25: 41 constraints\n",
            "25: 46 constraints\n",
            "25: 51 constraints\n"
          ]
        }
      ],
      "metadata": {
        "id": "aS7g7M8tJeX3"
      }
    },
    {
      "cell_type": "code",
      "execution_count": null,
      "source": [
        "random.seed(42)\n",
        "plot_one_z3_performance(50, use_max=True, inc_constraints=10)\n",
        "plot_one_z3_performance(50, use_max=False, inc_constraints=10)"
      ],
      "outputs": [],
      "metadata": {}
    }
  ]
}