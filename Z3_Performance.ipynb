{
  "nbformat": 4,
  "nbformat_minor": 2,
  "metadata": {
    "colab": {
      "name": "Z3 Performance.ipynb",
      "provenance": [],
      "collapsed_sections": [],
      "authorship_tag": "ABX9TyMY9UmfXfULoCEJogAJE1bS",
      "include_colab_link": true
    },
    "kernelspec": {
      "name": "python3",
      "display_name": "Python 3",
      "language": "python"
    },
    "language_info": {
      "name": "python",
      "version": "3.6.9",
      "mimetype": "text/x-python",
      "codemirror_mode": {
        "name": "ipython",
        "version": 3
      },
      "pygments_lexer": "ipython3",
      "nbconvert_exporter": "python",
      "file_extension": ".py"
    }
  },
  "cells": [
    {
      "cell_type": "markdown",
      "source": [
        "<a href=\"https://colab.research.google.com/github/MohamedElgharbawy/Z3Performance/blob/main/Z3_Performance.ipynb\" target=\"_parent\"><img src=\"https://colab.research.google.com/assets/colab-badge.svg\" alt=\"Open In Colab\"/></a>"
      ],
      "metadata": {
        "id": "view-in-github",
        "colab_type": "text"
      }
    },
    {
      "cell_type": "markdown",
      "source": [
        "# Plotting Z3 Performance\n",
        "\n",
        "This program plots Z3's performance when solving theorems with n random variables and a random set of [1, n<sup>2</sup>] constraints."
      ],
      "metadata": {
        "id": "UoAzAbprJ1_t"
      }
    },
    {
      "cell_type": "code",
      "execution_count": 1,
      "source": [
        "from z3 import *\n",
        "import random\n",
        "import operator\n",
        "import time\n",
        "import matplotlib\n",
        "matplotlib.use('Agg')\n",
        "import matplotlib.pyplot as plt\n",
        "import numpy as np\n",
        "import os\n",
        "import errno\n",
        "import stopit"
      ],
      "outputs": [],
      "metadata": {
        "id": "DFWUib1bGLC9"
      }
    },
    {
      "cell_type": "code",
      "execution_count": 3,
      "source": [
        "# Utils\n",
        "ops = [operator.lt, operator.le, operator.ge, operator.gt]\n",
        "twenty_min = 1200 # seconds\n",
        "\n",
        "def write_to_dir(filename, contents):\n",
        "  \"\"\"\n",
        "  Creates directory if it doesn't exist, deletes its contents, then writes to it\n",
        "  \"\"\"\n",
        "  if not os.path.exists(os.path.dirname(filename)):\n",
        "    try:\n",
        "        os.makedirs(os.path.dirname(filename))\n",
        "    except OSError as exc:\n",
        "        if exc.errno != errno.EEXIST:\n",
        "          raise\n",
        "\n",
        "  for f in os.listdir(filename):\n",
        "    os.remove(os.path.join(filename, f))\n",
        "\n",
        "  with open(filename, \"w\") as f:\n",
        "    f.write(contents)\n",
        "\n",
        "def try_check_model(solver, timeout):\n",
        "  \"\"\" \n",
        "  input: solver, timeout (seconds)\n",
        "  output: satisfiability (sat/unsat)\n",
        "  throws: TimeoutError\n",
        "  \"\"\"\n",
        "  with stopit.SignalTimeout(timeout) as to_ctx_mgr:\n",
        "    satisfiability = solver.check()\n",
        "\n",
        "  if to_ctx_mgr.state != to_ctx_mgr.EXECUTED:\n",
        "    raise TimeoutError(f\"Solver timed out after {timeout} seconds.\")\n",
        "\n",
        "  return str(satisfiability)\n",
        "    "
      ],
      "outputs": [],
      "metadata": {
        "id": "6Ohvg2dYDc0H"
      }
    },
    {
      "cell_type": "code",
      "execution_count": 4,
      "source": [
        "def z3_performance(num_var: int, use_max: bool, timeout: int, inc_constraints=1):\n",
        "  \"\"\"\n",
        "  Measure Z3's performance to check a model for num_var variables with\n",
        "  1 - num_var**2 constraints.\n",
        "  Returns the a tuple, a list of the number of constraints, and a list of the\n",
        "  corresponding times.\n",
        "  \"\"\"\n",
        "  X = IntVector('x', num_var)\n",
        "\n",
        "  if use_max:\n",
        "    solver = Optimize()\n",
        "    solver.maximize(Sum(X))\n",
        "  else:\n",
        "    solver = Solver()\n",
        "\n",
        "  # Graphing lists\n",
        "  num_constraints = []\n",
        "  times = []\n",
        "  num_unsat = 0\n",
        "\n",
        "  # Constraints\n",
        "  constraints = []\n",
        "  for i in range(1, num_var**2 + 1, inc_constraints):\n",
        "    print(f\"{num_var}: {i} constraints\")\n",
        "    num_constraints.append(i)\n",
        "\n",
        "    # Get a random operator\n",
        "    op = random.choice(ops)\n",
        "    \n",
        "    # Create a random constraint\n",
        "    constraint = op(sum(random.randint(-10, 10)*X[j] for j in range(0,num_var)), random.randint(-10, 10))\n",
        "    constraints.append(constraint)\n",
        "    solver.add(constraint)\n",
        "\n",
        "    # Write problem to smt lib txt file\n",
        "    filename = f\"problems/{num_var}/{num_var},num_constraints={i}.txt\"\n",
        "    write_to_dir(filename, solver.sexpr())\n",
        "\n",
        "    # Check model\n",
        "    start_time = time.monotonic()\n",
        "    satisfiability = None\n",
        "    try:\n",
        "      satisfiability = try_check_model(solver, timeout)\n",
        "      final_time = time.monotonic() - start_time\n",
        "      times.append(round(final_time, 5))\n",
        "    except:\n",
        "      times.append(np.nan)\n",
        "\n",
        "    filename = f\"models/{num_var}/{num_var},num_constraints={i}.txt\"\n",
        "    if satisfiability == \"unsat\":\n",
        "      num_unsat += 1\n",
        "      write_to_dir(filename, \"unsat\")\n",
        "    elif satisfiability == \"sat\":\n",
        "      write_to_dir(filename, solver.model().sexpr())\n",
        "    else:\n",
        "      write_to_dir(filename, \"timeout\")\n",
        "    \n",
        "    if num_unsat == 10:\n",
        "      break\n",
        "\n",
        "  return num_constraints, times"
      ],
      "outputs": [],
      "metadata": {
        "id": "dseTLLI601c-"
      }
    },
    {
      "cell_type": "code",
      "execution_count": 10,
      "source": [
        "def plot_one_z3_performance(num_var: int, use_max: bool, timeout: int, inc_constraints=1):\n",
        "  \"\"\"\n",
        "  Measure and plot Z3's performance for num_var variables\n",
        "  \"\"\"\n",
        "  num_constraints, times = z3_performance(num_var, use_max, timeout, inc_constraints)\n",
        "  \n",
        "  for x, y in zip(num_constraints, times):\n",
        "    if np.isnan(y):\n",
        "      plt.text(x, timeout, \"x\", fontsize=12, color=\"red\", ha=\"center\", va=\"center\")\n",
        "      plt.legend()\n",
        "\n",
        "  # Replace nan times with timeout before plotting\n",
        "  times = np.nan_to_num(times, nan=timeout)\n",
        "  plt.plot(num_constraints, times)\n",
        "\n",
        "  plt.title(f\"Z3 Performance for {num_var} variables\")\n",
        "  plt.xlabel(\"Number of constraints\")\n",
        "  plt.ylabel(\"Time (seconds)\")\n",
        "  plt.savefig(f\"plots/{num_var},use_max={use_max}\")\n",
        "  plt.clf()"
      ],
      "outputs": [],
      "metadata": {
        "id": "7wjbkU5T3u7f"
      }
    },
    {
      "cell_type": "code",
      "execution_count": 15,
      "source": [
        "random.seed(10)\n",
        "plot_one_z3_performance(10, use_max=True, timeout=1)"
      ],
      "outputs": [
        {
          "output_type": "stream",
          "name": "stdout",
          "text": [
            "10: 1 constraints\n",
            "10: 2 constraints\n",
            "10: 3 constraints\n",
            "10: 4 constraints\n",
            "10: 5 constraints\n",
            "10: 6 constraints\n",
            "10: 7 constraints\n",
            "10: 8 constraints\n",
            "10: 9 constraints\n",
            "10: 10 constraints\n",
            "10: 11 constraints\n",
            "10: 12 constraints\n",
            "10: 13 constraints\n",
            "10: 14 constraints\n"
          ]
        }
      ],
      "metadata": {
        "id": "aS7g7M8tJeX3"
      }
    },
    {
      "cell_type": "code",
      "execution_count": null,
      "source": [],
      "outputs": [],
      "metadata": {}
    }
  ]
}